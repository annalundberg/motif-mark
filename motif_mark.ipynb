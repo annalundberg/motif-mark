{
 "cells": [
  {
   "cell_type": "markdown",
   "metadata": {},
   "source": [
    "## Necessary Packages"
   ]
  },
  {
   "cell_type": "code",
   "execution_count": 1,
   "metadata": {
    "collapsed": true
   },
   "outputs": [],
   "source": [
    "import argparse\n",
    "import re\n",
    "import cairo"
   ]
  },
  {
   "cell_type": "markdown",
   "metadata": {
    "collapsed": true
   },
   "source": [
    "## Core functions"
   ]
  },
  {
   "cell_type": "code",
   "execution_count": null,
   "metadata": {
    "collapsed": true
   },
   "outputs": [],
   "source": [
    "def parse_header(line):\n",
    "    '''Parses fasta file header to obtain read info'''\n",
    "    header = line.split(' ')\n",
    "    print(header)\n",
    "    gene = header[0]\n",
    "    gene = gene[1:]\n",
    "    loc = header[1].split(':')\n",
    "    stat = header[2] + header[3] # (reverse complement)\n",
    "    chrm = loc[0]\n",
    "    pos = loc[1].split('-')\n",
    "    base = int(pos[0])\n",
    "    end = int(pos[1])\n",
    "    return gene, chrm, base, end, stat"
   ]
  },
  {
   "cell_type": "code",
   "execution_count": null,
   "metadata": {
    "collapsed": true
   },
   "outputs": [],
   "source": [
    "def build_exon(line, base, chr):\n",
    "    '''This function is designed to build an exon dictionary entry\n",
    "    from an uppercase segment in a fasta file.'''\n",
    "    exon = ''\n",
    "    start = base\n",
    "    while line[chr].isupper():\n",
    "        exon += line[chr]\n",
    "        base += 1\n",
    "        chr += 1\n",
    "    fin = base - 1\n",
    "    return base, start, exon, fin, chr"
   ]
  },
  {
   "cell_type": "code",
   "execution_count": 1,
   "metadata": {
    "collapsed": true
   },
   "outputs": [],
   "source": [
    "def build_intron(line, base, chr):\n",
    "    '''This function is designed to build an intron dictionary entry\n",
    "    from an uppercase segment in a fasta file.'''\n",
    "    intron = ''\n",
    "    start = base\n",
    "    while chr < len(line) and line[chr].islower():\n",
    "        intron += line[chr]\n",
    "        base += 1\n",
    "        chr += 1\n",
    "    fin = base - 1\n",
    "    intron = intron.upper()\n",
    "    return base, start, intron, fin, chr"
   ]
  },
  {
   "cell_type": "code",
   "execution_count": 1,
   "metadata": {
    "collapsed": true
   },
   "outputs": [],
   "source": [
    "def parse_fa(fa_file):\n",
    "    '''(file) -> dict, dict, dict\n",
    "    This function is going to parse a fasta file where introns appear\n",
    "    in lowercase and exons appear in uppercase. It will return an\n",
    "    intron and an exon dictionary where the key represents the order\n",
    "    of the segment.'''\n",
    "    ln, base = 0, 0 # init counters\n",
    "    exons={} #key will be start coordinate, value will be seq, end coordinate\n",
    "    introns={} #key will be start coordinate, value will be seq, end coordinate\n",
    "    genes = {} #key will be gene abbr, value will be chr, start coor, end coor\n",
    "    with open(fa_file) as fa:\n",
    "        for line in fa:\n",
    "            ln+=1\n",
    "            chr = 0\n",
    "            print(ln)\n",
    "            line = line.strip('\\n')\n",
    "            if line.startswith('>'): # header\n",
    "                gene, chrm, base, end, stat = parse_header(line)\n",
    "                #have reverse complement info under stat if wanted\n",
    "                if gene not in genes:\n",
    "                    genes[gene] = [chr, base, end]\n",
    "                new = True\n",
    "            else: # sequence line\n",
    "                while chr < len(line):\n",
    "                    if line[chr].isupper():\n",
    "                        base, start, exon, fin, chr = build_exon(line, base, chr)\n",
    "                        exons[start] = [exon, fin]\n",
    "                    elif line[chr].islower():\n",
    "                        base, start, intron, fin, chr = build_intron(line, base, chr)\n",
    "                        introns[start] = [intron, fin]\n",
    "                new = False\n",
    "    return introns, exons"
   ]
  },
  {
   "cell_type": "code",
   "execution_count": null,
   "metadata": {
    "collapsed": true
   },
   "outputs": [],
   "source": [
    "def make_motif_pattern(motif):\n",
    "    '''(string) -> string\n",
    "    This function reads in a motif and builds a regex expression that will\n",
    "    recognize all equivalent motifs.'''\n",
    "    motif_pattern = ''\n",
    "    trans_dict = {\n",
    "        \"A\": \"A\",\n",
    "        \"C\": \"C\",\n",
    "        \"G\": \"G\",\n",
    "        \"T\": \"T\",\n",
    "        \"U\": \"T\",\n",
    "        \"M\": \"[AC]\",\n",
    "        \"R\": \"[AG]\",\n",
    "        \"W\": \"[AT]\",\n",
    "        \"S\": \"[CG]\",\n",
    "        \"Y\": \"[CT]\",\n",
    "        \"K\": \"[GT]\",\n",
    "        \"V\": \"[ACG]\",\n",
    "        \"H\": \"[ACT]\",\n",
    "        \"D\": \"[AGT]\",\n",
    "        \"B\": \"[CGT]\",\n",
    "        \"N\": \"[GATC]\"}\n",
    "    for char in motif:\n",
    "        motif_pattern += trans_dict[char]\n",
    "    return motif_pattern"
   ]
  },
  {
   "cell_type": "code",
   "execution_count": null,
   "metadata": {
    "collapsed": true
   },
   "outputs": [],
   "source": [
    "def id_motif(m_file, introns, exons):\n",
    "    '''(file, dict, dict) -> dict\n",
    "    This function takes in a sequence as a string and uses regex to find motifs.\n",
    "    Motifs are identified and returned with coordinates (start position?).'''\n",
    "    motif_dict={}\n",
    "    motif_coords = {} #dict for motif mapping\n",
    "    # parse motif file\n",
    "    with open(m_file) as motifs:\n",
    "        for motif in motifs:\n",
    "            motif = motif.strip('\\n')\n",
    "            motif_dict[motif] = make_motif_pattern(motif.upper())\n",
    "    for motif in motif_dict:\n",
    "        pattern = re.compile(motif_dict[motif])\n",
    "        for intron in introns:\n",
    "            coords = []\n",
    "            for match in re.finditer(motif_dict[motif], intron):\n",
    "                coords.append(match.span()) #coordinates of each match\n",
    "            if motif_dict[motif] not in motif_coords:\n",
    "                motif_coords[motif_dict[key]]= []\n",
    "                # motif_coords[motif_dict[key]].append(start_coordinates)\n",
    "        \n",
    "        for exon in exons:\n",
    "            coords = []\n",
    "            for match in re.finditer(motif_dict[motif], exon):\n",
    "                coords.append(match.span()) #coordinates of each match\n",
    "            if motif_dict[motif] not in motif_coords:\n",
    "                motif_coords[motif_dict[key]]= []\n",
    "                # motif_coords[motif_dict[key]].append(start_coordinates)\n",
    "                \n",
    "    return motif_coords"
   ]
  },
  {
   "cell_type": "markdown",
   "metadata": {},
   "source": [
    "## using pycairo to draw motifs"
   ]
  },
  {
   "cell_type": "code",
   "execution_count": null,
   "metadata": {
    "collapsed": true
   },
   "outputs": [],
   "source": [
    "def draw_motifs(m_dict, i_dict, e_dict):\n",
    "    '''(dict,dict,dict) -> svg\n",
    "    This function uses dictionaries generated from parse_fa() and id_motif. Dictionaries \n",
    "    are: m_dict (motif dictionary, key = motif, value = list of start positions),\n",
    "    i_dict (intron dictionary, key = true start pos, value = sequence, end pos),\n",
    "    e_dict (exon dictionary, key = true start pos, value = sequence, end pos).\n",
    "    Function generates an SVG image of the gene including introns,\n",
    "    exons and motif mapping, using pycairo to draw.'''\n",
    "    #add code\n",
    "    return None"
   ]
  },
  {
   "cell_type": "markdown",
   "metadata": {},
   "source": [
    "## just testing"
   ]
  },
  {
   "cell_type": "code",
   "execution_count": null,
   "metadata": {},
   "outputs": [],
   "source": []
  },
  {
   "cell_type": "code",
   "execution_count": null,
   "metadata": {},
   "outputs": [],
   "source": []
  },
  {
   "cell_type": "code",
   "execution_count": null,
   "metadata": {
    "collapsed": true
   },
   "outputs": [],
   "source": []
  }
 ],
 "metadata": {
  "kernelspec": {
   "display_name": "Python 3",
   "language": "python",
   "name": "python3"
  },
  "language_info": {
   "codemirror_mode": {
    "name": "ipython",
    "version": 3
   },
   "file_extension": ".py",
   "mimetype": "text/x-python",
   "name": "python",
   "nbconvert_exporter": "python",
   "pygments_lexer": "ipython3",
   "version": "3.6.7"
  }
 },
 "nbformat": 4,
 "nbformat_minor": 2
}

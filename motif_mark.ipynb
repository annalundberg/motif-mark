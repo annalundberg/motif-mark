{
 "cells": [
  {
   "cell_type": "markdown",
   "metadata": {},
   "source": [
    "## Necessary Packages"
   ]
  },
  {
   "cell_type": "code",
   "execution_count": 1,
   "metadata": {
    "collapsed": true
   },
   "outputs": [],
   "source": [
    "import argparse\n",
    "import cairo"
   ]
  },
  {
   "cell_type": "markdown",
   "metadata": {},
   "source": [
    "## Argparse function\n",
    "- Placeholder for use in final python script"
   ]
  },
  {
   "cell_type": "code",
   "execution_count": 3,
   "metadata": {
    "collapsed": true
   },
   "outputs": [],
   "source": [
    "def get_arguments():\n",
    "    parser = argparse.ArgumentParser(\n",
    "        description=\"reads in fasta file and splicing regulation motifs, to visualize mapping\")\n",
    "    parser.add_argument(\"-f\", \"--filename\", help=\"name of fasta file\",\n",
    "                        required=True, type=str)\n",
    "    parser.add_argument(\"-m\", \"--motifs\", help=\"file containing motifs, 1 per line\",\n",
    "                        required=True, type=str)\n",
    "    return parser.parse_args()"
   ]
  },
  {
   "cell_type": "markdown",
   "metadata": {
    "collapsed": true
   },
   "source": [
    "## Core functions"
   ]
  },
  {
   "cell_type": "code",
   "execution_count": 1,
   "metadata": {
    "collapsed": true
   },
   "outputs": [],
   "source": [
    "def id_motif():\n",
    "    '''(string) -> string, int\n",
    "    This function takes in a sequence as a string and uses regex to find motifs.\n",
    "    Motifs are identified and returned with coordinates (start position?).'''\n",
    "    return motif, strt\n",
    "\n",
    "def parse_fa():\n",
    "    '''(file) -> ?\n",
    "    This function is going to parse a fasta file with lowercase sequence, except\n",
    "    exons appear in uppercase. Uses auxilary motif finding function to identify\n",
    "    motifs.'''\n",
    "    return None"
   ]
  },
  {
   "cell_type": "markdown",
   "metadata": {},
   "source": [
    "# Main function to use core functions"
   ]
  },
  {
   "cell_type": "code",
   "execution_count": null,
   "metadata": {
    "collapsed": true
   },
   "outputs": [],
   "source": [
    "def main():\n",
    "    '''documentation'''\n",
    "    return None"
   ]
  }
 ],
 "metadata": {
  "kernelspec": {
   "display_name": "Python 3",
   "language": "python",
   "name": "python3"
  },
  "language_info": {
   "codemirror_mode": {
    "name": "ipython",
    "version": 3
   },
   "file_extension": ".py",
   "mimetype": "text/x-python",
   "name": "python",
   "nbconvert_exporter": "python",
   "pygments_lexer": "ipython3",
   "version": "3.6.7"
  }
 },
 "nbformat": 4,
 "nbformat_minor": 2
}

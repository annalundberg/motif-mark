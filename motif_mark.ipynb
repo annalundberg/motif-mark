{
 "cells": [
  {
   "cell_type": "markdown",
   "metadata": {},
   "source": [
    "## Necessary Packages"
   ]
  },
  {
   "cell_type": "code",
   "execution_count": 1,
   "metadata": {
    "collapsed": true
   },
   "outputs": [],
   "source": [
    "import argparse\n",
    "import re\n",
    "import cairo"
   ]
  },
  {
   "cell_type": "markdown",
   "metadata": {
    "collapsed": true
   },
   "source": [
    "## Core functions"
   ]
  },
  {
   "cell_type": "code",
   "execution_count": null,
   "metadata": {
    "collapsed": true
   },
   "outputs": [],
   "source": [
    "def build_exon(line, base):\n",
    "    '''This function is designed to build an exon dictionary entry \n",
    "    from an uppercase segment in a fasta file.'''\n",
    "    exon = ''\n",
    "    start = base\n",
    "    while line[base].isupper():\n",
    "        exon += line[base]\n",
    "        base += 1\n",
    "    fin = base - 1\n",
    "    return base, start, exon, fin"
   ]
  },
  {
   "cell_type": "code",
   "execution_count": null,
   "metadata": {
    "collapsed": true
   },
   "outputs": [],
   "source": [
    "def build_intron(line, base):\n",
    "    '''This function is designed to build an intron dictionary entry \n",
    "    from an uppercase segment in a fasta file.'''\n",
    "    intron = ''\n",
    "    start = base\n",
    "    while line[base].islower():\n",
    "        intron += line[base]\n",
    "        base += 1\n",
    "    fin = base - 1\n",
    "    return base, start, intron, fin"
   ]
  },
  {
   "cell_type": "code",
   "execution_count": 1,
   "metadata": {
    "collapsed": true
   },
   "outputs": [],
   "source": [
    "def parse_fa(fa_file):\n",
    "    '''(file) -> dict, dict, dict\n",
    "    This function is going to parse a fasta file where introns appear\n",
    "    in lowercase and exons appear in uppercase. It will return an\n",
    "    intron and an exon dictionary where the key represents the order\n",
    "    of the segment.'''\n",
    "    ln, base = 0, 0 # init counters\n",
    "    exons={} #key will be start coordinate, value will be seq, end coordinate\n",
    "    introns={} #key will be start coordinate, value will be seq, end coordinate\n",
    "    with open(fa_file) as fa:\n",
    "        for line in fa:\n",
    "            ln+=1\n",
    "            line = line.strip('\\n')\n",
    "            if ln%2 == 1: # header\n",
    "                header = line.split( )\n",
    "                gene = header[0]\n",
    "                loc = header[1].split(:)\n",
    "                stat = header[2] + header[3] # (reverse complement)\n",
    "                chr = loc[0]\n",
    "                pos = loc[1].split(-)\n",
    "                base = pos[0]\n",
    "            if ln%2 == 0: # sequence line\n",
    "                while base < len(line):\n",
    "                    if line[base].isupper():\n",
    "                        base, start, exon, fin = build_exon(line, base)\n",
    "                        exons[start] = [exon, fin]\n",
    "                    if line[base].islower():\n",
    "                        base, start, intron, fin = build_intron(line, base)\n",
    "                        introns[start] = [intron, fin]\n",
    "    return segments, introns, exons"
   ]
  },
  {
   "cell_type": "code",
   "execution_count": null,
   "metadata": {
    "collapsed": true
   },
   "outputs": [],
   "source": [
    "def id_motif(m_file, introns, exons):\n",
    "    '''(file, dict, dict) -> dict\n",
    "    This function takes in a sequence as a string and uses regex to find motifs.\n",
    "    Motifs are identified and returned with coordinates (start position?).'''\n",
    "    motif_dict = {} #define acceptable versions of motifs\n",
    "    motif_coords = {} #dict for motif mapping\n",
    "    # parse motif file\n",
    "    with open(m_file) as motifs:\n",
    "        for motif in motifs:\n",
    "            motif_dict[motif] = motif\n",
    "            for base in range(len(motif)): # Populate motif variants of 1 Y or N\n",
    "                motif_dict[motif[0:base]+'W'+motif[base+1:len(motif)]] = motif\n",
    "                motif_dict[motif[0:base]+'S'+motif[base+1:len(motif)]] = motif\n",
    "                motif_dict[motif[0:base]+'M'+motif[base+1:len(motif)]] = motif\n",
    "                motif_dict[motif[0:base]+'K'+motif[base+1:len(motif)]] = motif\n",
    "                motif_dict[motif[0:base]+'R'+motif[base+1:len(motif)]] = motif\n",
    "                motif_dict[motif[0:base]+'Y'+motif[base+1:len(motif)]] = motif\n",
    "                motif_dict[motif[0:base]+'N'+motif[base+1:len(motif)]] = motif\n",
    "    # find motifs in introns\n",
    "    for intron in introns:\n",
    "        for key in motif_dict:\n",
    "            # use re.findall to identify motifs\n",
    "            if motif_dict[key] not in motif_coords:\n",
    "                motif_coords[motif_dict[key]]= []\n",
    "            # motif_coords[motif_dict[key]].append(start_coordinates)\n",
    "    # find motifs in exons\n",
    "    for exon in exons:\n",
    "        for key in motif_dict:\n",
    "            # use re.findall to identify motifs\n",
    "            if motif_dict[key] not in motif_coords:\n",
    "                motif_coords[motif_dict[key]]= []\n",
    "            # motif_coords[motif_dict[key]].append(start_coordinates)\n",
    "    return motif_coords"
   ]
  },
  {
   "cell_type": "code",
   "execution_count": null,
   "metadata": {
    "collapsed": true
   },
   "outputs": [],
   "source": [
    "def draw_motifs(s_dict, m_dict, i_dict, e_dict):\n",
    "    '''(dict,dict,dict) -> svg\n",
    "    This function uses dictionaries generated from parse_fa() and id_motif. Dictionaries \n",
    "    are: s_dict (segment dictionary, key = order found, value = true start position),\n",
    "    m_dict (motif dictionary, key = motif, value = list of start positions),\n",
    "    i_dict (intron dictionary, key = true start pos, value = sequence, end pos),\n",
    "    e_dict (exon dictionary, key = true start pos, value = sequence, end pos).\n",
    "    Function generates an SVG image of the gene including introns,\n",
    "    exons and motif mapping, using pycairo to draw.'''\n",
    "    #add code\n",
    "    return None"
   ]
  },
  {
   "cell_type": "code",
   "execution_count": null,
   "metadata": {
    "collapsed": true
   },
   "outputs": [],
   "source": []
  }
 ],
 "metadata": {
  "kernelspec": {
   "display_name": "Python 3",
   "language": "python",
   "name": "python3"
  },
  "language_info": {
   "codemirror_mode": {
    "name": "ipython",
    "version": 3
   },
   "file_extension": ".py",
   "mimetype": "text/x-python",
   "name": "python",
   "nbconvert_exporter": "python",
   "pygments_lexer": "ipython3",
   "version": "3.6.7"
  }
 },
 "nbformat": 4,
 "nbformat_minor": 2
}

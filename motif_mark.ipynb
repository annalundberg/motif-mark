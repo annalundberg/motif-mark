{
 "cells": [
  {
   "cell_type": "markdown",
   "metadata": {},
   "source": [
    "## Necessary Packages"
   ]
  },
  {
   "cell_type": "code",
   "execution_count": 75,
   "metadata": {
    "collapsed": true
   },
   "outputs": [],
   "source": [
    "import argparse\n",
    "import re\n",
    "import numpy as np\n",
    "import cairo"
   ]
  },
  {
   "cell_type": "markdown",
   "metadata": {
    "collapsed": true
   },
   "source": [
    "## Core functions"
   ]
  },
  {
   "cell_type": "code",
   "execution_count": 60,
   "metadata": {
    "collapsed": true
   },
   "outputs": [],
   "source": [
    "def parse_header(line):\n",
    "    '''Parses fasta file header to obtain read info'''\n",
    "    header = line.split(' ')\n",
    "    gene = header[0]\n",
    "    gene = gene[1:]\n",
    "    loc = header[1].split(':')\n",
    "    if len(header) == 4:\n",
    "        stat = header[2] + header[3] # (reverse complement)\n",
    "    else:\n",
    "        stat = ''\n",
    "    chrm = loc[0]\n",
    "    pos = loc[1].split('-')\n",
    "    base = int(pos[0])\n",
    "    end = int(pos[1])\n",
    "    return gene, chrm, base, end, stat"
   ]
  },
  {
   "cell_type": "code",
   "execution_count": 61,
   "metadata": {
    "collapsed": true
   },
   "outputs": [],
   "source": [
    "def build_exon(line, base, chr):\n",
    "    '''This function is designed to build an exon dictionary entry\n",
    "    from an uppercase segment in a fasta file.'''\n",
    "    exon = ''\n",
    "    start = base\n",
    "    while line[chr].isupper():\n",
    "        exon += line[chr]\n",
    "        base += 1\n",
    "        chr += 1\n",
    "    fin = base - 1\n",
    "    return base, start, exon, fin, chr"
   ]
  },
  {
   "cell_type": "code",
   "execution_count": 62,
   "metadata": {
    "collapsed": true
   },
   "outputs": [],
   "source": [
    "def build_intron(line, base, chr):\n",
    "    '''This function is designed to build an intron dictionary entry\n",
    "    from an uppercase segment in a fasta file.'''\n",
    "    intron = ''\n",
    "    start = base\n",
    "    while chr < len(line) and line[chr].islower():\n",
    "        intron += line[chr]\n",
    "        base += 1\n",
    "        chr += 1\n",
    "    fin = base - 1\n",
    "    intron = intron.upper()\n",
    "    return base, start, intron, fin, chr"
   ]
  },
  {
   "cell_type": "code",
   "execution_count": 63,
   "metadata": {
    "collapsed": true
   },
   "outputs": [],
   "source": [
    "def parse_fa(fa_file):\n",
    "    '''(file) -> dict, dict, dict\n",
    "    This function is going to parse a fasta file where introns appear\n",
    "    in lowercase and exons appear in uppercase. It will return an\n",
    "    intron and an exon dictionary where the key represents the order\n",
    "    of the segment.'''\n",
    "    ln, base = 0, 0 # init counters\n",
    "    new = True\n",
    "    exons={} #key will be start coordinate, value will be seq, end coordinate\n",
    "    introns={} #key will be start coordinate, value will be seq, end coordinate\n",
    "    genes = {} #key will be gene abbr, value will be chr, start coor, end coor\n",
    "    with open(fa_file) as fa:\n",
    "        for line in fa:\n",
    "            ln+=1\n",
    "            line = line.strip('\\n')\n",
    "            if line.startswith('>'): # header\n",
    "                if new == False:\n",
    "                    new = True\n",
    "                    char = 0\n",
    "                    while char < len(prev_line):\n",
    "                        if prev_line[char].isupper():\n",
    "                            base, start, exon, fin, char = build_exon(prev_line, base, char)\n",
    "                            exons[start] = [exon, fin]\n",
    "                        elif prev_line[char].islower():\n",
    "                            base, start, intron, fin, char = build_intron(prev_line, base, char)\n",
    "                            introns[start] = [intron, fin]\n",
    "                gene, chrm, base, end, stat = parse_header(line)\n",
    "                if gene not in genes:\n",
    "                    genes[gene] = [chrm, base, end]\n",
    "                prev_line = ''\n",
    "            else: # sequence line\n",
    "                prev_line += line\n",
    "                new = False\n",
    "    char = 0\n",
    "    while char < len(prev_line):\n",
    "        if prev_line[char].isupper():\n",
    "            base, start, exon, fin, char = build_exon(prev_line, base, char)\n",
    "            exons[start] = [exon, fin]\n",
    "        elif prev_line[char].islower():\n",
    "            base, start, intron, fin, char = build_intron(prev_line, base, char)\n",
    "            introns[start] = [intron, fin]\n",
    "    return introns, exons, genes"
   ]
  },
  {
   "cell_type": "code",
   "execution_count": 64,
   "metadata": {
    "collapsed": true
   },
   "outputs": [],
   "source": [
    "def make_motif_pattern(motif):\n",
    "    '''(string) -> string\n",
    "    This function reads in a motif and builds a regex expression that will\n",
    "    recognize all equivalent motifs.'''\n",
    "    motif_pattern = ''\n",
    "    trans_dict = {\n",
    "        \"A\": \"A\",\n",
    "        \"C\": \"C\",\n",
    "        \"G\": \"G\",\n",
    "        \"T\": \"T\",\n",
    "        \"U\": \"T\",\n",
    "        \"M\": \"[AC]\",\n",
    "        \"R\": \"[AG]\",\n",
    "        \"W\": \"[AT]\",\n",
    "        \"S\": \"[CG]\",\n",
    "        \"Y\": \"[CT]\",\n",
    "        \"K\": \"[GT]\",\n",
    "        \"V\": \"[ACG]\",\n",
    "        \"H\": \"[ACT]\",\n",
    "        \"D\": \"[AGT]\",\n",
    "        \"B\": \"[CGT]\",\n",
    "        \"N\": \"[GATC]\"}\n",
    "    for char in motif:\n",
    "        motif_pattern += trans_dict[char]\n",
    "    return motif_pattern"
   ]
  },
  {
   "cell_type": "code",
   "execution_count": 78,
   "metadata": {},
   "outputs": [],
   "source": [
    "def id_motif(m_file, introns, exons):\n",
    "    '''(file, dict, dict) -> dict\n",
    "    This function takes in a sequence as a string and uses regex to find motifs.\n",
    "    Motifs are identified and returned with coordinates (start position?).'''\n",
    "    motif_dict={}\n",
    "    motif_coords = {} #dict for motif mapping\n",
    "    # parse motif file\n",
    "    with open(m_file) as motifs:\n",
    "        for motif in motifs:\n",
    "            motif = motif.strip('\\n')\n",
    "            motif_dict[motif] = make_motif_pattern(motif.upper())\n",
    "    for motif in motif_dict:\n",
    "        pattern = re.compile(motif_dict[motif])\n",
    "        if motif not in motif_coords:\n",
    "                motif_coords[motif]= []\n",
    "        for intron in introns:\n",
    "            coords = []\n",
    "            for match in re.finditer(motif_dict[motif], introns[intron][0]):\n",
    "                real_c = tuple(np.add(match.span(), (intron,intron)))\n",
    "                coords.append(real_c) # adjusted coordinates of each match as np array\n",
    "            for coord in coords:\n",
    "                motif_coords[motif].append(coord)\n",
    "        for exon in exons:\n",
    "            coords = []\n",
    "            for match in re.finditer(motif_dict[motif], exons[exon][0]):\n",
    "                real_c = tuple(np.add(match.span(), (intron,intron)))\n",
    "                coords.append(real_c) #coordinates of each match in tuple form\n",
    "            for coord in coords:\n",
    "                motif_coords[motif].append(coord)\n",
    "    return motif_coords"
   ]
  },
  {
   "cell_type": "markdown",
   "metadata": {},
   "source": [
    "## using pycairo to draw motifs"
   ]
  },
  {
   "cell_type": "code",
   "execution_count": 66,
   "metadata": {
    "collapsed": true
   },
   "outputs": [],
   "source": [
    "def id_exons(exon_dict, gene_info):\n",
    "    '''(dict, list) -> list\n",
    "    This function is meant to be used by draw_motifs() to id exons for drawing.\n",
    "    exon_dict (key = true start pos, value = sequence, end pos)\n",
    "    gene_info [chromosome (str), start pos (int), end pos (int)]'''\n",
    "    exons = []\n",
    "    start = gene_info[1]\n",
    "    end = gene_info[2]\n",
    "    chrom = gene_info[0]\n",
    "    for entry in exon_dict:\n",
    "        if entry > start and entry < end:\n",
    "            exons.append((entry,exon_dict[entry][1])) #append tuple of exon coordinates to list\n",
    "    return exons"
   ]
  },
  {
   "cell_type": "code",
   "execution_count": 104,
   "metadata": {
    "collapsed": true
   },
   "outputs": [],
   "source": [
    "def pick_motifs(m_list, gene_info):\n",
    "    '''This function is meant to be used by draw_motifs() to id motifs\n",
    "    for drawing on a particular gene.\n",
    "    m_list (list of motif coordinates in tuple form)\n",
    "    gene_info [chromosome (str), start pos (int), end pos (int)]'''\n",
    "    motifs = []\n",
    "    start = gene_info[1]\n",
    "    end = gene_info[2]\n",
    "    chrom = gene_info[2]\n",
    "    for coordinates in m_list:\n",
    "        if coordinates[0] > start and coordinates[0] < end:\n",
    "            motifs.append(coordinates)\n",
    "    return motifs"
   ]
  },
  {
   "cell_type": "code",
   "execution_count": 107,
   "metadata": {
    "collapsed": true
   },
   "outputs": [],
   "source": [
    "def draw_motifs(m_dict, i_dict, e_dict, g_dict):\n",
    "    '''(dict,dict,dict,dict) -> svg\n",
    "    This function uses dictionaries generated from parse_fa() and id_motif. Dictionaries \n",
    "    are: m_dict (motif dictionary, key = motif, value = list of start positions),\n",
    "    i_dict (intron dictionary, key = true start pos, value = sequence, end pos),\n",
    "    e_dict (exon dictionary, key = true start pos, value = sequence, end pos),\n",
    "    g_dict (gene dictionary, key = gene name, value = chromosome, start pos, end pos).\n",
    "    Function generates an SVG image of the gene including introns,\n",
    "    exons and motif mapping, using pycairo to draw.'''\n",
    "    g, m = 0, 0 # init gene & motif counter\n",
    "    w = 1500 # set pixel width\n",
    "    h = 1000 * len(g_dict) # pixel height = frame x each gene to draw\n",
    "    colors = [[0.9,0.1,0.1], #red\n",
    "              [0.4, 0.9, 0.4], #green\n",
    "              [0.2, 0.23, 0.9], #blue\n",
    "              [0.7, 0.7, 0.2], #yellow\n",
    "              [0.2,0.7,0.5], #teal\n",
    "              [0.57, 0.2, 0.7], #purple\n",
    "              [0.7, 0.45, 0.2], #orange\n",
    "              [0.1, 0.9, 0.1], #vv green\n",
    "              [0.2, 0.7, 0.7] #light blue\n",
    "             ]    # Up to 9 motif colors available, will repeat colors after 9\n",
    "    for motif in m_dict:\n",
    "        m_dict[motif].append(colors[m%9])\n",
    "        m+=1\n",
    "    with cairo.SVGSurface('motif_map.svg', w, h) as surface:\n",
    "        context = cairo.Context(surface)\n",
    "        for gene in g_dict:\n",
    "            scale = 1300 / (g_dict[gene][2] - g_dict[gene][1]) #scale gene drawing to fit frame\n",
    "            #draw gene outline\n",
    "            context.set_source_rgb(0,0,0) #drawing a black line\n",
    "            context.set_line_width(10)\n",
    "            context.move_to(100, 500 + 1000*g) # start position\n",
    "            context.line_to(1400, 500 + 1000*g) # draw line to end pos\n",
    "            context.stroke()\n",
    "            #draw exons\n",
    "            exon_list = id_exons(e_dict, g_dict[gene])\n",
    "            for exon in exon_list:\n",
    "                start = exon[0] - g_dict[gene][1]\n",
    "                end = exon[1] - exon[0]\n",
    "                context.rectangle((100+start*scale), (450+1000*g), ((end)*scale), 100)\n",
    "                context.fill()\n",
    "            #draw motifs\n",
    "            for motif in m_dict:\n",
    "                context.set_source_rgb(m_dict[motif][-1][0],m_dict[motif][-1][1],m_dict[motif][-1][2])\n",
    "                motif_list = pick_motifs(m_dict[motif][:-1], g_dict[gene])\n",
    "                for site in motif_list:\n",
    "                    start = site[0] - g_dict[gene][1]\n",
    "                    end = site[1] - site[0]\n",
    "                    context.rectangle((100+start*scale), (450+1000*g), (end*scale), 100)\n",
    "                    context.fill()\n",
    "            #final things\n",
    "            g += 1 # update gene count\n",
    "    return None"
   ]
  },
  {
   "cell_type": "markdown",
   "metadata": {},
   "source": [
    "## just testing"
   ]
  },
  {
   "cell_type": "code",
   "execution_count": 68,
   "metadata": {
    "collapsed": true
   },
   "outputs": [],
   "source": [
    "motifs = ['ygcy','GCAUG','catag','YYYYYYYYYY']\n",
    "introns = {121444593: ['TCTGCCTTTTGGGTAACTCTTTAGTATTTTAGCTTCTAGTTCCTCCTCTCTGCCCTGTTCTGCTGGTACTTTCTTCCAAGAAAAAGGAACTCTTAAGAGGATGAGAGTTGGCTAAAACAAAAAATAATCTTTCTTTCAACTGTGGCACTACCCTGGGTTGCCCGTCTGTGTTTTATTTTCCAAAGGCAAAAAAACCATTATGCTATGTTAAGCTAATTTCAATACAAGGCACACTTACTTGCTTCAGACTCTGCTTTGCTGTTGAACTTGTTTCCCTTTTAATTTTGTTTTAAATTGTACTTTTGCTTTTTTAGTAGCTAATAACATTCGGCTTTTTAATTTTTTGAATGTTACTAACTGTTCCCTGTTATCCCTTCCCTTGTTTTTTAATTTGCTTAAAG', 121444993], \n",
    "           121445018: ['GTAAGCGGTTTGTTTCTGTGATTGAGGTGTGTCTCACTTTCTCTGGTCCTCTGTTCTCACCGAGTGTTGCCCAGTACCCACTTGTCCTCACCAAGGTCCCTGCATGAGATGTTGCACGCTGTTTCTCCTCCTCTCTTTTCATTCTGTCGCCATTGGGTTTTTGCCCTACCTCTACCTGAGTTCTCCTTCCCTTTCTTGTTCAGTCTTTGTTCTTGTGAATTTTAGCACTAAAGTATGCTGCGTGTGGTTTTTATTGCTGAGTCCACACTCTGGGGAGGAGCATTGATGTCACACTGTGTGCTACTGTCCTCATGGACTGCCTGTCTTGGGTTTTATTACTCCTGAA', 121445363]}\n",
    "exons = {7150537: ['AAAAACCTCTTCAGGCACTGGTGCCGAGGACCCTAG', 7150572], \n",
    "         152446704: ['ACTCAGTCGGCTGTCAAATCACTGAAGCGACCCCTCGAGGCAACCTTTGACCTG', 152446757], \n",
    "         28903700: ['GATAACTGTTCCCCCTCCTCCATCTCTGAGCCCGTGTCACAGGTATCACCCCCTTCTTGCCCTCAGCCCAGCTGCTGTGCCCCTGCCACCCGCGCCCCCTCAGCCCCTTGCGCGTCGCATCCAAGGT', 28903826], \n",
    "         121444994: ['ATGGTACTACCACTAAAGCGGAGG', 121445017]}\n",
    "genes = {'INSR': ['chr19', 7150261, 7150808], 'MBNL': ['chr3', 152446461, 152447003], \n",
    "         'ATP2A1': ['chr16', 28903467, 28904044], 'CLASP1': ['chr2', 121444593, 121445363]}"
   ]
  },
  {
   "cell_type": "code",
   "execution_count": 69,
   "metadata": {},
   "outputs": [
    {
     "name": "stdout",
     "output_type": "stream",
     "text": [
      "{'ygcy': '[CT]GC[CT]', 'GCAUG': 'GCATG', 'catag': 'CATAG', 'YYYYYYYYYY': '[CT][CT][CT][CT][CT][CT][CT][CT][CT][CT]'}\n"
     ]
    }
   ],
   "source": [
    "motif_dict = {}\n",
    "for motif in motifs:\n",
    "    motif_dict[motif] = make_motif_pattern(motif.upper())\n",
    "print(motif_dict)"
   ]
  },
  {
   "cell_type": "code",
   "execution_count": 98,
   "metadata": {},
   "outputs": [],
   "source": [
    "motif_coords = {'ygcy': [(7150350, 7150354), (7150367, 7150371), (7150437, 7150441), (7150599, 7150603), (7150603, 7150607), (7150626, 7150630), (7150637, 7150641), (7150690, 7150694), (7150704, 7150708), (7150728, 7150732), (7150791, 7150795), (152446509, 152446513), (152446524, 152446528), (152446607, 152446611), (152446629, 152446633), (152446633, 152446637), (152446650, 152446654), (152446672, 152446676), (152446682, 152446686), (152446686, 152446690), (152446693, 152446697), (28903498, 28903502), (28903507, 28903511), (28903512, 28903516), (28903564, 28903568), (28903580, 28903584), (28903615, 28903619), (28903650, 28903654), (28903661, 28903665), (28903675, 28903679), (28903833, 28903837), (28903858, 28903862), (28903864, 28903868), (28903870, 28903874), (28903875, 28903879), (28903895, 28903899), (28903942, 28903946), (28903962, 28903966), (28903967, 28903971), (28903977, 28903981), (28903988, 28903992), (28904002, 28904006), (121444595, 121444599), (121444643, 121444647), (121444653, 121444657), (121444751, 121444755), (121444793, 121444797), (121444832, 121444836), (121444844, 121444848), (121444849, 121444853), (121444896, 121444900), (121444985, 121444989), (121445085, 121445089), (121445134, 121445138), (121445165, 121445169), (121445179, 121445183), (121445253, 121445257), (121445272, 121445276), (121445316, 121445320), (121445335, 121445339), (121445039, 121445043), (121445075, 121445079), (121445090, 121445094), (121445095, 121445099), (121445101, 121445105), (121445110, 121445114)], \n",
    "                'GCAUG': [(7150672, 7150677), (7150754, 7150759), (152446521, 152446526), (152446786, 152446791), (121445119, 121445124)], \n",
    "                'catag': [(7150799, 7150804), (152446933, 152446938), (28903695, 28903700)], \n",
    "                'YYYYYYYYYY': [(7150334, 7150344), (152446812, 152446822), (152446843, 152446853), (28903484, 28903494), (121444632, 121444642), (121444720, 121444730), (121444863, 121444873), (121444963, 121444973), (121445139, 121445149), (121445198, 121445208), (121445026, 121445036), (121445066, 121445076)]}"
   ]
  },
  {
   "cell_type": "code",
   "execution_count": 108,
   "metadata": {},
   "outputs": [],
   "source": [
    "draw_motifs(motif_coords, introns, exons, genes)"
   ]
  },
  {
   "cell_type": "code",
   "execution_count": 38,
   "metadata": {},
   "outputs": [
    {
     "data": {
      "text/plain": [
       "4"
      ]
     },
     "execution_count": 38,
     "metadata": {},
     "output_type": "execute_result"
    }
   ],
   "source": [
    "len(genes)"
   ]
  },
  {
   "cell_type": "code",
   "execution_count": null,
   "metadata": {
    "collapsed": true
   },
   "outputs": [],
   "source": []
  }
 ],
 "metadata": {
  "kernelspec": {
   "display_name": "Python 3",
   "language": "python",
   "name": "python3"
  },
  "language_info": {
   "codemirror_mode": {
    "name": "ipython",
    "version": 3
   },
   "file_extension": ".py",
   "mimetype": "text/x-python",
   "name": "python",
   "nbconvert_exporter": "python",
   "pygments_lexer": "ipython3",
   "version": "3.6.7"
  }
 },
 "nbformat": 4,
 "nbformat_minor": 2
}
